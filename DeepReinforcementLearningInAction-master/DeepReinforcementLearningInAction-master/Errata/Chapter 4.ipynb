{
 "cells": [
  {
   "cell_type": "markdown",
   "metadata": {},
   "source": [
    "# Deep Reinforcement Learning in Action\n",
    "### by Alex Zai and Brandon Brown\n",
    "\n",
    "#### Chapter 4"
   ]
  },
  {
   "cell_type": "markdown",
   "metadata": {},
   "source": [
    "##### Supplemental"
   ]
  },
  {
   "cell_type": "code",
   "execution_count": 28,
   "metadata": {},
   "outputs": [],
   "source": [
    "from matplotlib import pyplot as plt\n",
    "\n",
    "def moving_average(x,step=5,window=50):\n",
    "    num = (x.shape[0] - window) / step\n",
    "    num = int(num)\n",
    "    avg = np.zeros(num)\n",
    "    slider = np.ones(window) / window\n",
    "    start = 0\n",
    "    for i in range(num):\n",
    "        end = start + window\n",
    "        avg[i] = slider @ x[start:end]\n",
    "        start = start + step\n",
    "    return avg"
   ]
  },
  {
   "cell_type": "markdown",
   "metadata": {},
   "source": [
    "##### Listing 4.1"
   ]
  },
  {
   "cell_type": "code",
   "execution_count": 2,
   "metadata": {},
   "outputs": [],
   "source": [
    "from gym import envs\n",
    "#envs.registry.all()"
   ]
  },
  {
   "cell_type": "markdown",
   "metadata": {},
   "source": [
    "##### Listing 4.2"
   ]
  },
  {
   "cell_type": "code",
   "execution_count": 3,
   "metadata": {},
   "outputs": [],
   "source": [
    "import gym\n",
    "env = gym.make('CartPole-v0')"
   ]
  },
  {
   "cell_type": "markdown",
   "metadata": {},
   "source": [
    "##### Listing 4.3"
   ]
  },
  {
   "cell_type": "code",
   "execution_count": 4,
   "metadata": {},
   "outputs": [],
   "source": [
    "state1 = env.reset()\n",
    "action = env.action_space.sample()\n",
    "state, reward, done, info = env.step(action)"
   ]
  },
  {
   "cell_type": "markdown",
   "metadata": {},
   "source": [
    "##### Listing 4.4"
   ]
  },
  {
   "cell_type": "code",
   "execution_count": 30,
   "metadata": {},
   "outputs": [],
   "source": [
    "import gym\n",
    "import numpy as np\n",
    "import torch\n",
    " \n",
    "l1 = 4\n",
    "l2 = 150\n",
    "l3 = 2\n",
    " \n",
    "model = torch.nn.Sequential(\n",
    "    torch.nn.Linear(l1, l2),\n",
    "    torch.nn.LeakyReLU(),\n",
    "    torch.nn.Linear(l2, l3),\n",
    "    torch.nn.Softmax(dim=0)\n",
    ")\n",
    " \n",
    "learning_rate = 0.009\n",
    "optimizer = torch.optim.Adam(model.parameters(), lr=learning_rate)"
   ]
  },
  {
   "cell_type": "markdown",
   "metadata": {},
   "source": [
    "##### Listing 4.5"
   ]
  },
  {
   "cell_type": "code",
   "execution_count": null,
   "metadata": {},
   "outputs": [],
   "source": [
    "pred = model(torch.from_numpy(state1).float())\n",
    "action = np.random.choice(np.array([0,1]), p=pred.data.numpy())\n",
    "state2, reward, done, info = env.step(action)"
   ]
  },
  {
   "cell_type": "markdown",
   "metadata": {},
   "source": [
    "##### Listing 4.6"
   ]
  },
  {
   "cell_type": "code",
   "execution_count": 32,
   "metadata": {},
   "outputs": [],
   "source": [
    "def discount_rewards(rewards, gamma=0.99):\n",
    "    lenr = len(rewards)\n",
    "    disc_return = torch.pow(gamma,torch.arange(lenr).float()) * rewards\n",
    "    disc_return /= disc_return.max()\n",
    "    return disc_return"
   ]
  },
  {
   "cell_type": "markdown",
   "metadata": {},
   "source": [
    "##### Listing 4.7"
   ]
  },
  {
   "cell_type": "code",
   "execution_count": 33,
   "metadata": {},
   "outputs": [],
   "source": [
    "def loss_fn(preds, r):\n",
    "    return -1 * torch.sum(r * torch.log(preds))"
   ]
  },
  {
   "cell_type": "markdown",
   "metadata": {},
   "source": [
    "##### Listing 4.8"
   ]
  },
  {
   "cell_type": "code",
   "execution_count": 34,
   "metadata": {},
   "outputs": [],
   "source": [
    "MAX_DUR = 200\n",
    "MAX_EPISODES = 500\n",
    "gamma = 0.99\n",
    "score = []\n",
    "for episode in range(MAX_EPISODES):\n",
    "        curr_state = env.reset()\n",
    "        done = False\n",
    "        transitions = []\n",
    "\n",
    "        for t in range(MAX_DUR):\n",
    "            act_prob = model(torch.from_numpy(curr_state).float())\n",
    "            action = np.random.choice(np.array([0,1]), p=act_prob.data.numpy())\n",
    "            prev_state = curr_state\n",
    "            curr_state, _, done, info = env.step(action)\n",
    "            transitions.append((prev_state, action, t+1))\n",
    "            if done:\n",
    "                break\n",
    " \n",
    "        ep_len = len(transitions)\n",
    "        score.append(ep_len)\n",
    "        reward_batch = torch.Tensor([r for (s,a,r) in\n",
    "        transitions]).flip(dims=(0,))\n",
    "        disc_rewards = discount_rewards(reward_batch)\n",
    "        state_batch = torch.Tensor([s for (s,a,r) in transitions])\n",
    "        action_batch = torch.Tensor([a for (s,a,r) in transitions])\n",
    "        pred_batch = model(state_batch)\n",
    "        prob_batch = pred_batch.gather(dim=1,index=action_batch.long().view(-1,1)).squeeze()\n",
    "        loss = loss_fn(prob_batch, disc_rewards)\n",
    "        optimizer.zero_grad()\n",
    "        loss.backward()\n",
    "        optimizer.step()"
   ]
  },
  {
   "cell_type": "code",
   "execution_count": 35,
   "metadata": {},
   "outputs": [
    {
     "data": {
      "text/plain": [
       "[<matplotlib.lines.Line2D at 0x121725fd0>]"
      ]
     },
     "execution_count": 35,
     "metadata": {},
     "output_type": "execute_result"
    },
    {
     "data": {
      "image/png": "[encoded data removed]",
      "text/plain": [
       "<Figure size 432x288 with 1 Axes>"
      ]
     },
     "metadata": {
      "needs_background": "light"
     },
     "output_type": "display_data"
    }
   ],
   "source": [
    "plt.plot(moving_average(np.array(score)))"
   ]
  }
 ],
 "metadata": {
  "kernelspec": {
   "display_name": "Python 3",
   "language": "python",
   "name": "python3"
  },
  "language_info": {
   "codemirror_mode": {
    "name": "ipython",
    "version": 3
   },
   "file_extension": ".py",
   "mimetype": "text/x-python",
   "name": "python",
   "nbconvert_exporter": "python",
   "pygments_lexer": "ipython3",
   "version": "3.7.4"
  }
 },
 "nbformat": 4,
 "nbformat_minor": 4
}
