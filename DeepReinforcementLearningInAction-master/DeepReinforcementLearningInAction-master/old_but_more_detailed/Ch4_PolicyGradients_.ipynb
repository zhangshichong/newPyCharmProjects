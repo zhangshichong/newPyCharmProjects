{
 "cells": [
  {
   "cell_type": "code",
   "execution_count": 1,
   "metadata": {},
   "outputs": [],
   "source": [
    "import gym\n",
    "# -*- coding: utf-8 -*-\n",
    "import numpy as np\n",
    "import torch\n",
    "from matplotlib import pylab as plt"
   ]
  },
  {
   "cell_type": "code",
   "execution_count": 2,
   "metadata": {},
   "outputs": [],
   "source": [
    "def running_mean(x, N=50):\n",
    "    cumsum = np.cumsum(np.insert(x, 0, 0)) \n",
    "    return (cumsum[N:] - cumsum[:-N]) / float(N)"
   ]
  },
  {
   "cell_type": "code",
   "execution_count": 70,
   "metadata": {},
   "outputs": [],
   "source": [
    "l1 = 4\n",
    "l2 = 150\n",
    "l3 = 2\n",
    "\n",
    "model = torch.nn.Sequential(\n",
    "    torch.nn.Linear(l1, l2),\n",
    "    torch.nn.LeakyReLU(),\n",
    "    torch.nn.Linear(l2, l3),\n",
    "    torch.nn.Softmax()\n",
    ")\n",
    "\n",
    "#loss_fn = torch.nn.MSELoss(size_average=False)\n",
    "def loss_fn_old(pred, a, r, d): \n",
    "    #pred is output from neural network, a is action index\n",
    "    #r is return (sum of rewards to end of episode), d is discount factor\n",
    "    return -1 * r * d * torch.log(pred[a]) #element-wise multipliy, then sum\n",
    "\n",
    "def loss_fn(preds, r): \n",
    "    #pred is output from neural network, a is action index\n",
    "    #r is return (sum of rewards to end of episode), d is discount factor\n",
    "    return -1 * torch.sum(r * torch.log(preds)) #element-wise multipliy, then sum\n",
    "\n",
    "learning_rate = 0.0009\n",
    "optimizer = torch.optim.Adam(model.parameters(), lr=learning_rate)"
   ]
  },
  {
   "cell_type": "code",
   "execution_count": 194,
   "metadata": {},
   "outputs": [
    {
     "name": "stdout",
     "output_type": "stream",
     "text": [
      "\u001b[33mWARN: gym.spaces.Box autodetected dtype as <class 'numpy.float32'>. Please provide explicit dtype.\u001b[0m\n"
     ]
    }
   ],
   "source": [
    "env = gym.make('CartPole-v0')\n",
    "observation = env.reset()\n",
    "#state, reward, done, info = env.step(1)\n",
    "#observation.shape # (4,)"
   ]
  },
  {
   "cell_type": "code",
   "execution_count": 195,
   "metadata": {},
   "outputs": [
    {
     "name": "stdout",
     "output_type": "stream",
     "text": [
      "tensor([ 0.5085,  0.4915])\n"
     ]
    },
    {
     "name": "stderr",
     "output_type": "stream",
     "text": [
      "/Users/brandonbrown/anaconda3/envs/deeprl/lib/python3.6/site-packages/torch/nn/modules/container.py:91: UserWarning: Implicit dimension choice for softmax has been deprecated. Change the call to include dim=X as an argument.\n",
      "  input = module(input)\n"
     ]
    },
    {
     "data": {
      "text/plain": [
       "tensor(63.9182)"
      ]
     },
     "execution_count": 195,
     "metadata": {},
     "output_type": "execute_result"
    }
   ],
   "source": [
    "pred = model(Variable(torch.from_numpy(observation).float()))\n",
    "print(pred) #type: float tensor\n",
    "a = int(np.random.choice(np.array([0,1]), p=pred.data.numpy())) #action\n",
    "r = 100 #reward\n",
    "d = 0.9 #discount\n",
    "loss_fn(pred, a, r, d)"
   ]
  },
  {
   "cell_type": "code",
   "execution_count": 7,
   "metadata": {},
   "outputs": [],
   "source": [
    "def discount_rewards(rewards, gamma=0.99): #rewards is a sequence e.g. [50,49,48,47,...]\n",
    "    lenr = len(rewards)\n",
    "    d_rewards = torch.pow(gamma,torch.arange(lenr)) * rewards #discounted rewards\n",
    "    d_rewards = (d_rewards - d_rewards.mean()) / (d_rewards.std() + 1e-07)\n",
    "    return d_rewards"
   ]
  },
  {
   "cell_type": "code",
   "execution_count": 8,
   "metadata": {},
   "outputs": [
    {
     "data": {
      "text/plain": [
       "tensor([ 1.9257,  1.8240,  1.7240,  1.6256,  1.5289,  1.4338,  1.3404,\n",
       "         1.2484,  1.1581,  1.0693,  0.9820,  0.8961,  0.8118,  0.7289,\n",
       "         0.6474,  0.5674,  0.4887,  0.4114,  0.3354,  0.2608,  0.1875,\n",
       "         0.1154,  0.0447, -0.0248, -0.0931, -0.1601, -0.2260, -0.2906,\n",
       "        -0.3541, -0.4165, -0.4777, -0.5378, -0.5968, -0.6547, -0.7115,\n",
       "        -0.7673, -0.8220, -0.8758, -0.9285, -0.9802, -1.0309, -1.0807,\n",
       "        -1.1295, -1.1774, -1.2244, -1.2705, -1.3156, -1.3599, -1.4033,\n",
       "        -1.4459])"
      ]
     },
     "execution_count": 8,
     "metadata": {},
     "output_type": "execute_result"
    }
   ],
   "source": [
    "discount_rewards(torch.arange(50, 0, -1))"
   ]
  },
  {
   "cell_type": "code",
   "execution_count": 71,
   "metadata": {
    "scrolled": true
   },
   "outputs": [
    {
     "name": "stdout",
     "output_type": "stream",
     "text": [
      "\u001b[33mWARN: gym.spaces.Box autodetected dtype as <class 'numpy.float32'>. Please provide explicit dtype.\u001b[0m\n"
     ]
    },
    {
     "name": "stderr",
     "output_type": "stream",
     "text": [
      "/Users/brandonbrown/anaconda3/envs/deeprl/lib/python3.6/site-packages/torch/nn/modules/container.py:91: UserWarning: Implicit dimension choice for softmax has been deprecated. Change the call to include dim=X as an argument.\n",
      "  input = module(input)\n"
     ]
    }
   ],
   "source": [
    "env = gym.make('CartPole-v0')\n",
    "MAX_DUR = 200\n",
    "MAX_EPISODES = 500\n",
    "gamma_ = 0.99\n",
    "losses = []\n",
    "time_steps = []\n",
    "for episode in range(MAX_EPISODES):\n",
    "    state1 = env.reset()\n",
    "    done = False\n",
    "    t = 0\n",
    "    obs = [] # list of state observations\n",
    "    actions = [] #list of actions\n",
    "    while not done: #while in episode\n",
    "        #env.render()\n",
    "        pred = model(torch.from_numpy(state1).float())\n",
    "        action = np.random.choice(np.array([0,1]), p=pred.data.numpy())\n",
    "        state2, reward, done, info = env.step(action)\n",
    "        obs.append(state1)\n",
    "        actions.append(action)\n",
    "        state1 = state2\n",
    "        t += 1\n",
    "        if t > MAX_DUR:\n",
    "            break;\n",
    "    time_steps.append(t+1)\n",
    "    #print(\"Episode finished after {} timesteps\".format(t+1))\n",
    "    # Optimize policy network with full episode\n",
    "    ep_len = len(obs) # episode length\n",
    "    rewards = torch.arange(ep_len, 0, -1) #list of rewards\n",
    "    preds = torch.zeros(ep_len)\n",
    "    for j in range(ep_len): #for each step in episode\n",
    "        d_rewards = discount_rewards(rewards, gamma_)\n",
    "        state = obs[j]\n",
    "        action = int(actions[j])\n",
    "        pred = model(torch.from_numpy(state).float())\n",
    "        preds[j] = pred[action]\n",
    "        \n",
    "    loss = loss_fn(preds, d_rewards)\n",
    "    losses.append(loss)\n",
    "    optimizer.zero_grad()\n",
    "    loss.backward()\n",
    "    optimizer.step()\n",
    "        \n",
    "env.close()"
   ]
  },
  {
   "cell_type": "code",
   "execution_count": 73,
   "metadata": {},
   "outputs": [
    {
     "data": {
      "image/png": "[encoded data removed]",
      "text/plain": [
       "<Figure size 720x504 with 1 Axes>"
      ]
     },
     "metadata": {},
     "output_type": "display_data"
    }
   ],
   "source": [
    "plt.figure(figsize=(10,7))\n",
    "plt.ylabel(\"Duration\")\n",
    "plt.xlabel(\"Episode\")\n",
    "plt.plot(running_mean(time_steps, 50), color='green')\n",
    "plt.savefig(\"PG_score_plot1.pdf\", format=\"pdf\")"
   ]
  },
  {
   "cell_type": "code",
   "execution_count": 75,
   "metadata": {},
   "outputs": [
    {
     "data": {
      "text/plain": [
       "[<matplotlib.lines.Line2D at 0x1221a3d68>]"
      ]
     },
     "execution_count": 75,
     "metadata": {},
     "output_type": "execute_result"
    },
    {
     "data": {
      "image/png": "[encoded data removed]",
      "text/plain": [
       "<Figure size 432x288 with 1 Axes>"
      ]
     },
     "metadata": {},
     "output_type": "display_data"
    }
   ],
   "source": [
    "plt.close()\n",
    "plt.plot(running_mean(losses, N=50), color='red')"
   ]
  },
  {
   "cell_type": "code",
   "execution_count": 4,
   "metadata": {},
   "outputs": [],
   "source": [
    "env.close()"
   ]
  },
  {
   "cell_type": "markdown",
   "metadata": {},
   "source": [
    "## Actor-Critic"
   ]
  },
  {
   "cell_type": "code",
   "execution_count": 439,
   "metadata": {},
   "outputs": [],
   "source": [
    "l1 = 4\n",
    "l2 = 150\n",
    "l3 = 2\n",
    "\n",
    "actor_model = torch.nn.Sequential(\n",
    "    torch.nn.Linear(l1, l2),\n",
    "    torch.nn.LeakyReLU(),\n",
    "    torch.nn.Linear(l2, l3),\n",
    "    torch.nn.Softmax()\n",
    ")\n",
    "\n",
    "critic_model = torch.nn.Sequential(\n",
    "    torch.nn.Linear(l1, l2),\n",
    "    torch.nn.LeakyReLU(),\n",
    "    torch.nn.Linear(l2, 1),\n",
    "    torch.nn.LeakyReLU(),\n",
    ")\n",
    "\n",
    "lr_actor = 0.0009 #0.0009\n",
    "lr_critic = 0.001 #0.001\n",
    "optimizer_actor = torch.optim.Adam(actor_model.parameters(), lr=lr_actor)\n",
    "optimizer_critic = torch.optim.Adam(critic_model.parameters(), lr=lr_critic)"
   ]
  },
  {
   "cell_type": "code",
   "execution_count": 440,
   "metadata": {},
   "outputs": [
    {
     "name": "stdout",
     "output_type": "stream",
     "text": [
      "\u001b[33mWARN: gym.spaces.Box autodetected dtype as <class 'numpy.float32'>. Please provide explicit dtype.\u001b[0m\n"
     ]
    },
    {
     "data": {
      "text/plain": [
       "tensor(1.00000e-03 *\n",
       "       [ 7.1524])"
      ]
     },
     "execution_count": 440,
     "metadata": {},
     "output_type": "execute_result"
    }
   ],
   "source": [
    "env = gym.make('CartPole-v0')\n",
    "observation = env.reset()\n",
    "#state, reward, done, info = env.step(1)\n",
    "#observation.shape # (4,)\n",
    "critic_model(torch.from_numpy(observation).float())"
   ]
  },
  {
   "cell_type": "code",
   "execution_count": 441,
   "metadata": {},
   "outputs": [],
   "source": [
    "def loss_fn_actor(pred, delta, discount): \n",
    "    return -1 * discount * delta * torch.log(pred)\n",
    "\n",
    "'''def loss_fn_critic(pred, delta): \n",
    "    return -1 * delta * pred'''\n",
    "\n",
    "loss_fn_critic = torch.nn.MSELoss()"
   ]
  },
  {
   "cell_type": "code",
   "execution_count": 442,
   "metadata": {},
   "outputs": [
    {
     "name": "stdout",
     "output_type": "stream",
     "text": [
      "\u001b[33mWARN: gym.spaces.Box autodetected dtype as <class 'numpy.float32'>. Please provide explicit dtype.\u001b[0m\n"
     ]
    },
    {
     "name": "stderr",
     "output_type": "stream",
     "text": [
      "/Users/brandonbrown/anaconda3/envs/deeprl/lib/python3.6/site-packages/torch/nn/modules/container.py:91: UserWarning: Implicit dimension choice for softmax has been deprecated. Change the call to include dim=X as an argument.\n",
      "  input = module(input)\n"
     ]
    },
    {
     "ename": "RuntimeError",
     "evalue": "Trying to backward through the graph a second time, but the buffers have already been freed. Specify retain_graph=True when calling backward the first time.",
     "output_type": "error",
     "traceback": [
      "\u001b[0;31m---------------------------------------------------------------------------\u001b[0m",
      "\u001b[0;31mRuntimeError\u001b[0m                              Traceback (most recent call last)",
      "\u001b[0;32m<ipython-input-442-3baf9c919805>\u001b[0m in \u001b[0;36m<module>\u001b[0;34m()\u001b[0m\n\u001b[1;32m     36\u001b[0m         \u001b[0moptimizer_critic\u001b[0m\u001b[0;34m.\u001b[0m\u001b[0mzero_grad\u001b[0m\u001b[0;34m(\u001b[0m\u001b[0;34m)\u001b[0m\u001b[0;34m\u001b[0m\u001b[0m\n\u001b[1;32m     37\u001b[0m         \u001b[0mloss_actor\u001b[0m\u001b[0;34m.\u001b[0m\u001b[0mbackward\u001b[0m\u001b[0;34m(\u001b[0m\u001b[0;34m)\u001b[0m\u001b[0;34m\u001b[0m\u001b[0m\n\u001b[0;32m---> 38\u001b[0;31m         \u001b[0mloss_critic\u001b[0m\u001b[0;34m.\u001b[0m\u001b[0mbackward\u001b[0m\u001b[0;34m(\u001b[0m\u001b[0;34m)\u001b[0m\u001b[0;34m\u001b[0m\u001b[0m\n\u001b[0m\u001b[1;32m     39\u001b[0m \u001b[0;34m\u001b[0m\u001b[0m\n\u001b[1;32m     40\u001b[0m         \u001b[0moptimizer_actor\u001b[0m\u001b[0;34m.\u001b[0m\u001b[0mstep\u001b[0m\u001b[0;34m(\u001b[0m\u001b[0;34m)\u001b[0m\u001b[0;34m\u001b[0m\u001b[0m\n",
      "\u001b[0;32m~/anaconda3/envs/deeprl/lib/python3.6/site-packages/torch/tensor.py\u001b[0m in \u001b[0;36mbackward\u001b[0;34m(self, gradient, retain_graph, create_graph)\u001b[0m\n\u001b[1;32m     91\u001b[0m                 \u001b[0mproducts\u001b[0m\u001b[0;34m.\u001b[0m \u001b[0mDefaults\u001b[0m \u001b[0mto\u001b[0m\u001b[0;31m \u001b[0m\u001b[0;31m`\u001b[0m\u001b[0;31m`\u001b[0m\u001b[0;32mFalse\u001b[0m\u001b[0;31m`\u001b[0m\u001b[0;31m`\u001b[0m\u001b[0;34m.\u001b[0m\u001b[0;34m\u001b[0m\u001b[0m\n\u001b[1;32m     92\u001b[0m         \"\"\"\n\u001b[0;32m---> 93\u001b[0;31m         \u001b[0mtorch\u001b[0m\u001b[0;34m.\u001b[0m\u001b[0mautograd\u001b[0m\u001b[0;34m.\u001b[0m\u001b[0mbackward\u001b[0m\u001b[0;34m(\u001b[0m\u001b[0mself\u001b[0m\u001b[0;34m,\u001b[0m \u001b[0mgradient\u001b[0m\u001b[0;34m,\u001b[0m \u001b[0mretain_graph\u001b[0m\u001b[0;34m,\u001b[0m \u001b[0mcreate_graph\u001b[0m\u001b[0;34m)\u001b[0m\u001b[0;34m\u001b[0m\u001b[0m\n\u001b[0m\u001b[1;32m     94\u001b[0m \u001b[0;34m\u001b[0m\u001b[0m\n\u001b[1;32m     95\u001b[0m     \u001b[0;32mdef\u001b[0m \u001b[0mregister_hook\u001b[0m\u001b[0;34m(\u001b[0m\u001b[0mself\u001b[0m\u001b[0;34m,\u001b[0m \u001b[0mhook\u001b[0m\u001b[0;34m)\u001b[0m\u001b[0;34m:\u001b[0m\u001b[0;34m\u001b[0m\u001b[0m\n",
      "\u001b[0;32m~/anaconda3/envs/deeprl/lib/python3.6/site-packages/torch/autograd/__init__.py\u001b[0m in \u001b[0;36mbackward\u001b[0;34m(tensors, grad_tensors, retain_graph, create_graph, grad_variables)\u001b[0m\n\u001b[1;32m     87\u001b[0m     Variable._execution_engine.run_backward(\n\u001b[1;32m     88\u001b[0m         \u001b[0mtensors\u001b[0m\u001b[0;34m,\u001b[0m \u001b[0mgrad_tensors\u001b[0m\u001b[0;34m,\u001b[0m \u001b[0mretain_graph\u001b[0m\u001b[0;34m,\u001b[0m \u001b[0mcreate_graph\u001b[0m\u001b[0;34m,\u001b[0m\u001b[0;34m\u001b[0m\u001b[0m\n\u001b[0;32m---> 89\u001b[0;31m         allow_unreachable=True)  # allow_unreachable flag\n\u001b[0m\u001b[1;32m     90\u001b[0m \u001b[0;34m\u001b[0m\u001b[0m\n\u001b[1;32m     91\u001b[0m \u001b[0;34m\u001b[0m\u001b[0m\n",
      "\u001b[0;31mRuntimeError\u001b[0m: Trying to backward through the graph a second time, but the buffers have already been freed. Specify retain_graph=True when calling backward the first time."
     ]
    }
   ],
   "source": [
    "env = gym.make('CartPole-v0')\n",
    "MAX_DUR = 250\n",
    "MAX_EPISODES = 750\n",
    "gamma = 0.99\n",
    "losses_actor = []\n",
    "losses_critic = []\n",
    "time_steps = []\n",
    "for episode in range(MAX_EPISODES):\n",
    "    state1 = env.reset()\n",
    "    done = False\n",
    "    t = 0\n",
    "    discount = 1\n",
    "    while not done: #while in episode\n",
    "        state1_th = torch.from_numpy(state1).float() #convert to PyTorch tensor\n",
    "        action_pred = actor_model(state1_th)\n",
    "        action = np.random.choice(np.array([0,1]), p=action_pred.data.numpy())\n",
    "        \n",
    "        state2, reward, done, info = env.step(action) #Take action, observe new state and reward\n",
    "        psuedoreward = t/MAX_DUR if not done else -1\n",
    "        psuedoreward = torch.tensor(psuedoreward).float()\n",
    "        state2_th = torch.from_numpy(state2).float()\n",
    "        critic_pred1 = critic_model(state1_th) #State-value prediction for original state\n",
    "        critic_pred2 = critic_model(state2_th) #State-value prediction for new state\n",
    "\n",
    "        delta = psuedoreward + (gamma * reward * critic_pred2) - critic_pred1\n",
    "        delta = delta.detach() #Need to detach because we're using critic_pred2 in 2 places\n",
    "        \n",
    "        #Training\n",
    "        critic_target = psuedoreward if done else psuedoreward + gamma * critic_pred2\n",
    "        loss_actor = loss_fn_actor(action_pred[action], delta, discount)\n",
    "        loss_critic = loss_fn_critic(critic_pred1, psuedoreward)\n",
    "        losses_actor.append(loss_actor)\n",
    "        losses_critic.append(loss_critic)\n",
    "        \n",
    "        optimizer_actor.zero_grad()\n",
    "        optimizer_critic.zero_grad()\n",
    "        loss_actor.backward()\n",
    "        loss_critic.backward()\n",
    "        \n",
    "        optimizer_actor.step()\n",
    "        optimizer_critic.step()\n",
    "        \n",
    "        #End Training\n",
    "        discount = gamma * discount\n",
    "        state1 = state2\n",
    "        t += 1\n",
    "        if t > MAX_DUR:\n",
    "            break;\n",
    "    time_steps.append(t+1)\n",
    "env.close()"
   ]
  },
  {
   "cell_type": "code",
   "execution_count": null,
   "metadata": {},
   "outputs": [],
   "source": [
    "plt.figure(figsize=(10,7))\n",
    "plt.ylabel(\"Duration\")\n",
    "plt.xlabel(\"Episode\")\n",
    "plt.plot(running_mean(time_steps, 50), color='green')\n",
    "plt.savefig(\"/Users/brandonbrown/Dropbox/DeepReinforcementLearning/media/Ch 5/PGac_score_plot1.pdf\", format=\"pdf\")"
   ]
  },
  {
   "cell_type": "code",
   "execution_count": 436,
   "metadata": {},
   "outputs": [
    {
     "data": {
      "text/plain": [
       "[<matplotlib.lines.Line2D at 0x136e823c8>]"
      ]
     },
     "execution_count": 436,
     "metadata": {},
     "output_type": "execute_result"
    },
    {
     "data": {
      "image/png": "[encoded data removed]",
      "text/plain": [
       "<Figure size 432x288 with 1 Axes>"
      ]
     },
     "metadata": {},
     "output_type": "display_data"
    }
   ],
   "source": [
    "plt.close()\n",
    "plt.plot(running_mean(losses_critic, N=1000), color='orange')"
   ]
  },
  {
   "cell_type": "code",
   "execution_count": 437,
   "metadata": {},
   "outputs": [
    {
     "data": {
      "text/plain": [
       "[<matplotlib.lines.Line2D at 0x13791b710>]"
      ]
     },
     "execution_count": 437,
     "metadata": {},
     "output_type": "execute_result"
    },
    {
     "data": {
      "image/png": "[encoded data removed]",
      "text/plain": [
       "<Figure size 432x288 with 1 Axes>"
      ]
     },
     "metadata": {},
     "output_type": "display_data"
    }
   ],
   "source": [
    "plt.close()\n",
    "plt.plot(running_mean(losses_actor, N=1000), color='red')"
   ]
  },
  {
   "cell_type": "markdown",
   "metadata": {},
   "source": [
    "## Actor-Critic with Experience Replay"
   ]
  },
  {
   "cell_type": "code",
   "execution_count": null,
   "metadata": {},
   "outputs": [],
   "source": [
    "l1 = 4\n",
    "l2 = 150\n",
    "l3 = 2\n",
    "\n",
    "actor_model = torch.nn.Sequential(\n",
    "    torch.nn.Linear(l1, l2),\n",
    "    torch.nn.LeakyReLU(),\n",
    "    torch.nn.Linear(l2, l3),\n",
    "    torch.nn.Softmax()\n",
    ")\n",
    "\n",
    "critic_model = torch.nn.Sequential(\n",
    "    torch.nn.Linear(l1, l2),\n",
    "    torch.nn.LeakyReLU(),\n",
    "    torch.nn.Linear(l2, 1),\n",
    "    torch.nn.LeakyReLU(),\n",
    ")\n",
    "\n",
    "lr_actor = 0.0009 #0.0009\n",
    "lr_critic = 0.001 #0.001\n",
    "optimizer_actor = torch.optim.Adam(actor_model.parameters(), lr=lr_actor)\n",
    "optimizer_critic = torch.optim.Adam(critic_model.parameters(), lr=lr_critic)"
   ]
  },
  {
   "cell_type": "code",
   "execution_count": null,
   "metadata": {},
   "outputs": [],
   "source": [
    "def loss_fn_actor(pred, delta, discount): \n",
    "    return -1 * discount * delta * torch.sum(torch.log(pred))\n",
    "\n",
    "loss_fn_critic = torch.nn.MSELoss()"
   ]
  },
  {
   "cell_type": "code",
   "execution_count": null,
   "metadata": {},
   "outputs": [],
   "source": []
  }
 ],
 "metadata": {
  "kernelspec": {
   "display_name": "Python [conda env:deeprl]",
   "language": "python",
   "name": "conda-env-deeprl-py"
  },
  "language_info": {
   "codemirror_mode": {
    "name": "ipython",
    "version": 3
   },
   "file_extension": ".py",
   "mimetype": "text/x-python",
   "name": "python",
   "nbconvert_exporter": "python",
   "pygments_lexer": "ipython3",
   "version": "3.6.5"
  }
 },
 "nbformat": 4,
 "nbformat_minor": 2
}
