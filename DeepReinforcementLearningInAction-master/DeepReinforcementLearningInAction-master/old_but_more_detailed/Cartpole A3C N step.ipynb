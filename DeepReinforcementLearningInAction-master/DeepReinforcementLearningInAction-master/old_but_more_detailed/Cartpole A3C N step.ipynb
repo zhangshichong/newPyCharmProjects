{
 "cells": [
  {
   "cell_type": "code",
   "execution_count": 1,
   "metadata": {},
   "outputs": [],
   "source": [
    "import torch\n",
    "from torch import nn\n",
    "from torch import optim\n",
    "import numpy as np\n",
    "from torch.nn import functional as F\n",
    "import gym\n",
    "import matplotlib.pyplot as plt\n",
    "from skimage.transform import resize\n",
    "from collections import deque\n",
    "from IPython.display import clear_output, display\n",
    "import torch.multiprocessing as mp"
   ]
  },
  {
   "cell_type": "code",
   "execution_count": 2,
   "metadata": {},
   "outputs": [
    {
     "data": {
      "text/plain": [
       "array([ 0.00966575,  0.04722485, -0.01757739,  0.03419526])"
      ]
     },
     "execution_count": 2,
     "metadata": {},
     "output_type": "execute_result"
    }
   ],
   "source": [
    "#env = gym.make(\"Pong-v0\")\n",
    "env = gym.make(\"CartPole-v1\")\n",
    "env.reset()\n",
    "#env.unwrapped.get_action_meanings()"
   ]
  },
  {
   "cell_type": "code",
   "execution_count": 3,
   "metadata": {},
   "outputs": [],
   "source": [
    "class ActorCritic(nn.Module):\n",
    "    def __init__(self):\n",
    "        super(ActorCritic, self).__init__()\n",
    "        self.l1 = nn.Linear(4,25)\n",
    "        self.l2 = nn.Linear(25,50)\n",
    "        self.actor_lin1 = nn.Linear(50,2)\n",
    "        self.l3 = nn.Linear(50,25)\n",
    "        self.critic_lin1 = nn.Linear(25,1)\n",
    "\n",
    "    def forward(self,x):\n",
    "        x = F.normalize(x,dim=0)\n",
    "        y = F.relu(self.l1(x))\n",
    "        y = F.relu(self.l2(y))\n",
    "        actor = F.log_softmax(self.actor_lin1(y),dim=0)\n",
    "        c = F.relu(self.l3(y.detach()))\n",
    "        critic = torch.tanh(self.critic_lin1(c))\n",
    "        return actor, critic"
   ]
  },
  {
   "cell_type": "code",
   "execution_count": 54,
   "metadata": {},
   "outputs": [],
   "source": [
    "def evaluate(worker_model):\n",
    "    test_env = gym.make(\"CartPole-v1\")\n",
    "    test_env.reset()\n",
    "    maxrun = 0\n",
    "    done = False\n",
    "    env.reset()\n",
    "    raw_state = np.array(test_env.env.state)\n",
    "    state = torch.from_numpy(raw_state).float()\n",
    "    while(done==False):\n",
    "        #env.render('human')\n",
    "        policy, value = worker_model(state)\n",
    "        #sample action\n",
    "        action = torch.distributions.Categorical(logits=policy.view(-1)).sample().detach().numpy()\n",
    "        state_, reward, done, lives = test_env.step(action)\n",
    "        #print(value,reward)\n",
    "        state = torch.from_numpy(state_).float()\n",
    "        maxrun += 1\n",
    "    test_env.close()\n",
    "    return maxrun\n",
    "\n",
    "def update_params(worker_opt,values,logprobs,rewards,G,clc=0.1,gamma=0.95):\n",
    "        rewards = torch.Tensor(rewards).flip(dims=(0,)).view(-1)\n",
    "        logprobs = torch.stack(logprobs).flip(dims=(0,)).view(-1) #to Tensor and reverse\n",
    "        values = torch.stack(values).flip(dims=(0,)).view(-1) #to Tensor and reverse\n",
    "        Returns = []\n",
    "        ret_ = G\n",
    "        for r in range(rewards.shape[0]):\n",
    "            ret_ = rewards[r] + gamma * ret_\n",
    "            Returns.append(ret_)\n",
    "        Returns = torch.stack(Returns).view(-1)\n",
    "        Returns = F.normalize(Returns,dim=0)\n",
    "        actor_loss = -1*logprobs * (Returns - values.detach())\n",
    "        critic_loss = torch.pow(values - Returns,2)\n",
    "        loss = actor_loss.sum() + clc*critic_loss.sum()\n",
    "        loss.backward()\n",
    "        worker_opt.step()\n",
    "        return actor_loss, critic_loss\n",
    "        \n",
    "def run_episode(worker_env, worker_model, N_steps=10):\n",
    "    raw_state = np.array(worker_env.env.state)\n",
    "    state = torch.from_numpy(raw_state).float()\n",
    "    values, logprobs, rewards = [],[],[]\n",
    "    done = False\n",
    "    j=0\n",
    "    G=torch.Tensor([0])\n",
    "    while (j < N_steps and done == False):\n",
    "        j+=1\n",
    "        #run actor critic model\n",
    "        policy, value = worker_model(state)\n",
    "        values.append(value)\n",
    "        #sample action\n",
    "        logits = policy.view(-1)\n",
    "        action_dist = torch.distributions.Categorical(logits=logits)\n",
    "        action = action_dist.sample()\n",
    "        logprob_ = policy.view(-1)[action]\n",
    "        logprobs.append(logprob_)\n",
    "        state_, _, done, info = worker_env.step(action.detach().numpy())\n",
    "        #reward = reward * 10\n",
    "        state = torch.from_numpy(state_).float()\n",
    "        if done:\n",
    "            reward = -10\n",
    "            worker_env.reset()\n",
    "        else:\n",
    "            reward = 1.0\n",
    "            #_,value = worker_model(state)\n",
    "            G = value.detach()\n",
    "        rewards.append(reward)\n",
    "    return values, logprobs, rewards, G\n",
    "\n",
    "def worker(t, worker_model, counter, params,eplens): #q is mp Queue\n",
    "    start_time = time.time()\n",
    "    print(\"In process {}\".format(t,))\n",
    "    #play n steps of the game, store rewards\n",
    "    worker_env = gym.make(\"CartPole-v1\")\n",
    "    worker_env.reset()\n",
    "    worker_opt = optim.Adam(lr=1e-4,params=worker_model.parameters())\n",
    "    worker_opt.zero_grad()\n",
    "    maxrun = 1\n",
    "    for i in range(params['epochs']):\n",
    "        worker_opt.zero_grad()\n",
    "        #stores\n",
    "        values, logprobs, rewards, G = run_episode(worker_env,worker_model, params['n_steps'])\n",
    "        actor_loss,critic_loss = update_params(worker_opt,values,logprobs,rewards,G)\n",
    "        counter.value = counter.value + 1\n",
    "        if i % 50 == 0:\n",
    "            eplen = evaluate(worker_model)\n",
    "            eplens.put(eplen)\n",
    "            print(\"Process: {} Maxrun: {} ALoss: {} CLoss: {}\".format(t,eplen, \\\n",
    "                      actor_loss.detach().mean().numpy(),critic_loss.detach().mean().numpy()))\n",
    "        if time.time() - start_time > 45:\n",
    "            print(\"Done 45 seconds\")\n",
    "            break;"
   ]
  },
  {
   "cell_type": "code",
   "execution_count": 55,
   "metadata": {
    "scrolled": true
   },
   "outputs": [
    {
     "data": {
      "text/plain": [
       "\"%%time\\nTestModel = ActorCritic()\\nworker_opt = optim.Adam(lr=1e-4,params=TestModel.parameters())\\nq2 = mp.Value('i',0)\\nparams = {\\n    'epochs':5,\\n    'n_steps':5,\\n    'n_workers':1,\\n}\\nAC_step(0,TestModel,q2,params)\""
      ]
     },
     "execution_count": 55,
     "metadata": {},
     "output_type": "execute_result"
    }
   ],
   "source": [
    "'''%%time\n",
    "TestModel = ActorCritic()\n",
    "worker_opt = optim.Adam(lr=1e-4,params=TestModel.parameters())\n",
    "q2 = mp.Value('i',0)\n",
    "params = {\n",
    "    'epochs':5,\n",
    "    'n_steps':5,\n",
    "    'n_workers':1,\n",
    "}\n",
    "AC_step(0,TestModel,q2,params)'''"
   ]
  },
  {
   "cell_type": "markdown",
   "metadata": {},
   "source": [
    "# <span style=\"color:red;\">Train</span>"
   ]
  },
  {
   "cell_type": "code",
   "execution_count": 56,
   "metadata": {
    "scrolled": true
   },
   "outputs": [
    {
     "name": "stdout",
     "output_type": "stream",
     "text": [
      "In process 0\n",
      "In process 1\n",
      "In process 2\n",
      "In process 4\n",
      "In process 3\n",
      "In process 5\n",
      "In process 6\n",
      "Process: 4 Maxrun: 19 ALoss: 0.10394370555877686 CLoss: 0.0462668351829052\n",
      "Process: 1 Maxrun: 17 ALoss: -0.24389143288135529 CLoss: 0.1747657060623169\n",
      "Process: 0 Maxrun: 17 ALoss: -0.2620689868927002 CLoss: 0.19557997584342957\n",
      "Process: 2 Maxrun: 16 ALoss: 0.10148320347070694 CLoss: 0.042914845049381256\n",
      "Process: 6 Maxrun: 14 ALoss: -0.2637297213077545 CLoss: 0.196259543299675\n",
      "Process: 5 Maxrun: 17 ALoss: -0.24296186864376068 CLoss: 0.17444220185279846\n",
      "Process: 3 Maxrun: 18 ALoss: 0.10500303655862808 CLoss: 0.047194380313158035\n",
      "Process: 3 Maxrun: 21 ALoss: -0.9360821843147278 CLoss: 1.301700234413147\n",
      "Process: 0 Maxrun: 32 ALoss: 0.10427164286375046 CLoss: 0.039491038769483566\n",
      "Process: 6 Maxrun: 11 ALoss: 0.10482797771692276 CLoss: 0.03987312316894531\n",
      "Process: 1 Maxrun: 15 ALoss: 0.1030658483505249 CLoss: 0.04130054637789726\n",
      "Process: 4 Maxrun: 18 ALoss: 0.1034662276506424 CLoss: 0.04000253602862358\n",
      "Process: 2 Maxrun: 19 ALoss: 0.09962769597768784 CLoss: 0.039854150265455246\n",
      "Process: 5 Maxrun: 25 ALoss: 0.10520058870315552 CLoss: 0.04079705849289894\n",
      "Process: 3 Maxrun: 15 ALoss: 0.10797350853681564 CLoss: 0.04103069379925728\n",
      "Process: 6 Maxrun: 29 ALoss: -0.7982884645462036 CLoss: 1.2815704345703125\n",
      "Process: 0 Maxrun: 20 ALoss: 0.11228697746992111 CLoss: 0.04238035902380943\n",
      "Process: 1 Maxrun: 20 ALoss: 0.1027890220284462 CLoss: 0.03855472803115845\n",
      "Process: 2 Maxrun: 31 ALoss: 0.10166426748037338 CLoss: 0.04092404991388321\n",
      "Process: 4 Maxrun: 36 ALoss: -0.5176525115966797 CLoss: 0.5035301446914673\n",
      "Process: 5 Maxrun: 41 ALoss: -0.35498982667922974 CLoss: 0.22551338374614716\n",
      "Process: 3 Maxrun: 11 ALoss: 0.08853448927402496 CLoss: 0.03491156920790672\n",
      "Process: 6 Maxrun: 20 ALoss: 0.10038068145513535 CLoss: 0.03792198374867439\n",
      "Process: 0 Maxrun: 16 ALoss: 0.08723550289869308 CLoss: 0.0339912548661232\n",
      "Process: 4 Maxrun: 12 ALoss: 0.08343344181776047 CLoss: 0.034173738211393356\n",
      "Process: 1 Maxrun: 30 ALoss: 0.08793162554502487 CLoss: 0.0347127765417099\n",
      "Process: 2 Maxrun: 38 ALoss: 0.08879053592681885 CLoss: 0.03696561977267265\n",
      "Process: 5 Maxrun: 31 ALoss: -0.5215579867362976 CLoss: 0.4276050925254822\n",
      "Process: 0 Maxrun: 19 ALoss: -0.4158153533935547 CLoss: 0.4547621011734009\n",
      "Process: 3 Maxrun: 22 ALoss: 0.07518894970417023 CLoss: 0.029612088575959206\n",
      "Process: 6 Maxrun: 37 ALoss: -0.3473924994468689 CLoss: 0.29655721783638\n",
      "Process: 1 Maxrun: 25 ALoss: -0.2995239794254303 CLoss: 0.2285233587026596\n",
      "Process: 2 Maxrun: 22 ALoss: 0.0744309201836586 CLoss: 0.03064778447151184\n",
      "Process: 4 Maxrun: 29 ALoss: 0.0742609053850174 CLoss: 0.030723348259925842\n",
      "Process: 5 Maxrun: 21 ALoss: 0.08169611543416977 CLoss: 0.03365490585565567\n",
      "Process: 0 Maxrun: 45 ALoss: 0.05432845279574394 CLoss: 0.025632983073592186\n",
      "Process: 6 Maxrun: 35 ALoss: -0.2752382159233093 CLoss: 0.25413304567337036\n",
      "Process: 4 Maxrun: 21 ALoss: 0.07093539834022522 CLoss: 0.02912277542054653\n",
      "Process: 1 Maxrun: 20 ALoss: -0.6197646856307983 CLoss: 0.7977787256240845\n",
      "Process: 2 Maxrun: 11 ALoss: 0.08388515561819077 CLoss: 0.03163054212927818\n",
      "Process: 5 Maxrun: 18 ALoss: -0.516483724117279 CLoss: 0.4649477005004883\n",
      "Process: 3 Maxrun: 71 ALoss: 0.06602819263935089 CLoss: 0.0252191424369812\n",
      "Process: 4 Maxrun: 15 ALoss: -0.4344848096370697 CLoss: 0.330188512802124\n",
      "Process: 0 Maxrun: 24 ALoss: -0.8543039560317993 CLoss: 0.8371411561965942\n",
      "Process: 6 Maxrun: 21 ALoss: 0.04820315167307854 CLoss: 0.022148791700601578\n",
      "Process: 1 Maxrun: 14 ALoss: -0.5288543105125427 CLoss: 0.6234686970710754\n",
      "Process: 3 Maxrun: 35 ALoss: -0.49630239605903625 CLoss: 0.8463389873504639\n",
      "Process: 2 Maxrun: 19 ALoss: 0.052455514669418335 CLoss: 0.02464030683040619\n",
      "Process: 5 Maxrun: 133 ALoss: -0.3744720220565796 CLoss: 0.36805641651153564\n",
      "Process: 3 Maxrun: 26 ALoss: -0.5714595913887024 CLoss: 1.4230682849884033\n",
      "Process: 4 Maxrun: 54 ALoss: 0.0595051646232605 CLoss: 0.02405857853591442\n",
      "Process: 0 Maxrun: 71 ALoss: 0.04030675068497658 CLoss: 0.023668214678764343\n",
      "Process: 1 Maxrun: 48 ALoss: 0.0627695843577385 CLoss: 0.02572663128376007\n",
      "Process: 6 Maxrun: 67 ALoss: 0.041426341980695724 CLoss: 0.021301476284861565\n",
      "Process: 2 Maxrun: 106 ALoss: 0.049469687044620514 CLoss: 0.026237890124320984\n",
      "Process: 5 Maxrun: 38 ALoss: 0.03395068645477295 CLoss: 0.0207685474306345\n",
      "Process: 3 Maxrun: 97 ALoss: 0.01994975283741951 CLoss: 0.01979558914899826\n",
      "Process: 0 Maxrun: 42 ALoss: 0.049606021493673325 CLoss: 0.02551424317061901\n",
      "Process: 4 Maxrun: 63 ALoss: 0.04139874503016472 CLoss: 0.02194703184068203\n",
      "Process: 1 Maxrun: 31 ALoss: 0.035165462642908096 CLoss: 0.02143499068915844\n",
      "Process: 2 Maxrun: 18 ALoss: 0.024114230647683144 CLoss: 0.01945941522717476\n",
      "Process: 6 Maxrun: 38 ALoss: 0.032991763204336166 CLoss: 0.01900167018175125\n",
      "Process: 5 Maxrun: 22 ALoss: -0.6432814002037048 CLoss: 0.5185571908950806\n",
      "Process: 3 Maxrun: 35 ALoss: -0.5769088268280029 CLoss: 0.4133157432079315\n",
      "Process: 0 Maxrun: 59 ALoss: 0.03750382736325264 CLoss: 0.017679253593087196\n",
      "Process: 4 Maxrun: 18 ALoss: 0.04126277193427086 CLoss: 0.019880477339029312\n",
      "Process: 6 Maxrun: 12 ALoss: 0.056822486221790314 CLoss: 0.02192029543220997\n",
      "Process: 2 Maxrun: 43 ALoss: 0.015791380777955055 CLoss: 0.01883375644683838\n",
      "Process: 5 Maxrun: 33 ALoss: 0.025542516261339188 CLoss: 0.018598048016428947\n",
      "Process: 1 Maxrun: 105 ALoss: -9.689555008662865e-05 CLoss: 0.01886540651321411\n",
      "Process: 3 Maxrun: 37 ALoss: 0.00918386410921812 CLoss: 0.019085759297013283\n",
      "Process: 4 Maxrun: 65 ALoss: 0.02384822629392147 CLoss: 0.01758677512407303\n",
      "Process: 6 Maxrun: 91 ALoss: -0.285466730594635 CLoss: 1.536390781402588\n",
      "Process: 0 Maxrun: 87 ALoss: 0.026841452345252037 CLoss: 0.01878270134329796\n",
      "Process: 2 Maxrun: 66 ALoss: 0.03322773054242134 CLoss: 0.01869354024529457\n",
      "Process: 1 Maxrun: 96 ALoss: -0.4237697720527649 CLoss: 0.4189886152744293\n",
      "Process: 5 Maxrun: 128 ALoss: 0.04168293997645378 CLoss: 0.017659995704889297\n",
      "Process: 3 Maxrun: 143 ALoss: 0.002675666008144617 CLoss: 0.016628358513116837\n",
      "Process: 4 Maxrun: 121 ALoss: 0.007253514137119055 CLoss: 0.017648374661803246\n",
      "Process: 2 Maxrun: 111 ALoss: 0.03405017778277397 CLoss: 0.017211727797985077\n",
      "Process: 6 Maxrun: 122 ALoss: 0.006598630454391241 CLoss: 0.018070384860038757\n",
      "Process: 0 Maxrun: 179 ALoss: 0.014551976695656776 CLoss: 0.018605036661028862\n",
      "Process: 5 Maxrun: 58 ALoss: -0.014590735547244549 CLoss: 0.01594204641878605\n",
      "Process: 1 Maxrun: 130 ALoss: -0.01161225326359272 CLoss: 0.016272345557808876\n",
      "Process: 3 Maxrun: 102 ALoss: 0.030833899974822998 CLoss: 0.01853989064693451\n",
      "Process: 6 Maxrun: 112 ALoss: 0.03808310255408287 CLoss: 0.018626362085342407\n",
      "Process: 2 Maxrun: 107 ALoss: 0.03990612551569939 CLoss: 0.018989823758602142\n",
      "Process: 1 Maxrun: 127 ALoss: 0.020776625722646713 CLoss: 0.017932729795575142\n",
      "Process: 4 Maxrun: 251 ALoss: 0.052682459354400635 CLoss: 0.017683563753962517\n",
      "Process: 0 Maxrun: 301 ALoss: 0.012994383461773396 CLoss: 0.01681806705892086\n",
      "Process: 5 Maxrun: 286 ALoss: 0.022319896146655083 CLoss: 0.01712161675095558\n",
      "Process: 3 Maxrun: 131 ALoss: 0.01189428847283125 CLoss: 0.017136691138148308\n",
      "Process: 6 Maxrun: 164 ALoss: 0.03880585730075836 CLoss: 0.018322082236409187\n",
      "Process: 4 Maxrun: 38 ALoss: 0.015449387021362782 CLoss: 0.016985688358545303\n",
      "Process: 1 Maxrun: 64 ALoss: 0.008412322960793972 CLoss: 0.016852473840117455\n",
      "Process: 2 Maxrun: 241 ALoss: 0.02662491239607334 CLoss: 0.01733466051518917\n",
      "Process: 0 Maxrun: 131 ALoss: -0.014969785697758198 CLoss: 0.015519638545811176\n",
      "Process: 5 Maxrun: 129 ALoss: 0.008015576750040054 CLoss: 0.017029060050845146\n",
      "Process: 3 Maxrun: 198 ALoss: -0.41460809111595154 CLoss: 0.33327093720436096\n",
      "Process: 6 Maxrun: 224 ALoss: -0.039873819798231125 CLoss: 0.01725766621530056\n",
      "Process: 4 Maxrun: 222 ALoss: 0.01683659665286541 CLoss: 0.017883313819766045\n",
      "Process: 1 Maxrun: 214 ALoss: -0.009151837788522243 CLoss: 0.01780521497130394\n",
      "Process: 2 Maxrun: 162 ALoss: 0.0019099537748843431 CLoss: 0.0173183623701334\n",
      "Process: 0 Maxrun: 60 ALoss: 0.019956469535827637 CLoss: 0.019277526065707207\n",
      "Process: 5 Maxrun: 73 ALoss: 0.021820394322276115 CLoss: 0.01909489929676056\n",
      "Process: 3 Maxrun: 110 ALoss: 0.03992505371570587 CLoss: 0.016659865155816078\n"
     ]
    },
    {
     "name": "stdout",
     "output_type": "stream",
     "text": [
      "Process: 6 Maxrun: 83 ALoss: 0.048859234899282455 CLoss: 0.01709098182618618\n",
      "Process: 4 Maxrun: 79 ALoss: 0.055995818227529526 CLoss: 0.01758178137242794\n",
      "Process: 0 Maxrun: 26 ALoss: 0.007917070761322975 CLoss: 0.017373856157064438\n",
      "Process: 1 Maxrun: 92 ALoss: -0.00637167040258646 CLoss: 0.018084077164530754\n",
      "Process: 2 Maxrun: 113 ALoss: 0.013991385698318481 CLoss: 0.017224594950675964\n",
      "Process: 5 Maxrun: 113 ALoss: 0.010692465119063854 CLoss: 0.015049097128212452\n",
      "Process: 3 Maxrun: 237 ALoss: -0.00819871760904789 CLoss: 0.015625208616256714\n",
      "Process: 1 Maxrun: 185 ALoss: -0.0022071192506700754 CLoss: 0.017387650907039642\n",
      "Process: 5 Maxrun: 126 ALoss: 0.006722076330333948 CLoss: 0.016636032611131668\n",
      "Process: 2 Maxrun: 211 ALoss: 0.012815132737159729 CLoss: 0.017724361270666122\n",
      "Process: 6 Maxrun: 293 ALoss: -0.010712338611483574 CLoss: 0.015908921137452126\n",
      "Process: 0 Maxrun: 275 ALoss: 0.006915852427482605 CLoss: 0.016122516244649887\n",
      "Process: 4 Maxrun: 305 ALoss: 0.016560083255171776 CLoss: 0.017924876883625984\n",
      "Process: 3 Maxrun: 274 ALoss: -0.018615158274769783 CLoss: 0.015086817555129528\n",
      "Process: 0 Maxrun: 201 ALoss: 0.03491530939936638 CLoss: 0.017770064994692802\n",
      "Process: 2 Maxrun: 327 ALoss: 0.009888960979878902 CLoss: 0.017793109640479088\n",
      "Process: 1 Maxrun: 389 ALoss: 0.021288828924298286 CLoss: 0.017041906714439392\n",
      "Process: 6 Maxrun: 348 ALoss: -0.03567800298333168 CLoss: 0.017871439456939697\n",
      "Process: 5 Maxrun: 425 ALoss: 0.022365232929587364 CLoss: 0.017463333904743195\n",
      "Process: 4 Maxrun: 482 ALoss: 0.01701737940311432 CLoss: 0.017900114879012108\n",
      "Process: 0 Maxrun: 179 ALoss: 0.021197980269789696 CLoss: 0.01679874025285244\n",
      "Process: 3 Maxrun: 265 ALoss: -0.002953128656372428 CLoss: 0.017196258530020714\n",
      "Process: 1 Maxrun: 168 ALoss: 0.004223119001835585 CLoss: 0.017359929159283638\n",
      "Process: 6 Maxrun: 224 ALoss: 0.03242839500308037 CLoss: 0.018847836181521416\n",
      "Process: 5 Maxrun: 153 ALoss: -0.002570148790255189 CLoss: 0.017431622371077538\n",
      "Process: 2 Maxrun: 276 ALoss: 0.009881271980702877 CLoss: 0.01740526221692562\n",
      "Process: 4 Maxrun: 81 ALoss: -0.6857172250747681 CLoss: 0.9693224430084229\n",
      "Process: 3 Maxrun: 267 ALoss: 0.0038571960758417845 CLoss: 0.01785328797996044\n",
      "Process: 0 Maxrun: 315 ALoss: -0.006190071813762188 CLoss: 0.017082763835787773\n",
      "Process: 6 Maxrun: 191 ALoss: 0.0013697510585188866 CLoss: 0.015550321899354458\n",
      "Process: 2 Maxrun: 190 ALoss: 0.01048066932708025 CLoss: 0.01653381623327732\n",
      "Process: 4 Maxrun: 241 ALoss: 0.013523707166314125 CLoss: 0.015993107110261917\n",
      "Process: 1 Maxrun: 375 ALoss: 0.016562793403863907 CLoss: 0.017268268391489983\n",
      "Process: 5 Maxrun: 342 ALoss: -0.0030456369277089834 CLoss: 0.01661066897213459\n",
      "Process: 0 Maxrun: 164 ALoss: 0.01629476062953472 CLoss: 0.01565011404454708\n",
      "Process: 6 Maxrun: 188 ALoss: 0.011707878671586514 CLoss: 0.016592398285865784\n",
      "Process: 3 Maxrun: 345 ALoss: 0.013917666859924793 CLoss: 0.018654130399227142\n",
      "Process: 1 Maxrun: 240 ALoss: 0.012477785348892212 CLoss: 0.01699119620025158\n",
      "Process: 2 Maxrun: 332 ALoss: 0.006511287298053503 CLoss: 0.016293291002511978\n",
      "Process: 4 Maxrun: 287 ALoss: -0.000990531058050692 CLoss: 0.016231227666139603\n",
      "Process: 5 Maxrun: 357 ALoss: 0.02647736482322216 CLoss: 0.016923487186431885\n",
      "Process: 0 Maxrun: 220 ALoss: 0.025174234062433243 CLoss: 0.016804134473204613\n",
      "Process: 2 Maxrun: 289 ALoss: -0.00027518050046637654 CLoss: 0.016064565628767014\n",
      "Process: 6 Maxrun: 482 ALoss: -0.009736618958413601 CLoss: 0.017442356795072556\n",
      "Process: 1 Maxrun: 364 ALoss: -0.03220698982477188 CLoss: 0.017145156860351562\n",
      "Process: 3 Maxrun: 441 ALoss: 0.020765474066138268 CLoss: 0.015180799178779125\n",
      "Process: 4 Maxrun: 487 ALoss: -0.0010205254657194018 CLoss: 0.01666555553674698\n",
      "Process: 5 Maxrun: 374 ALoss: 0.024551043286919594 CLoss: 0.015927141532301903\n",
      "Process: 0 Maxrun: 386 ALoss: -0.058771830052137375 CLoss: 0.01872127316892147\n",
      "Process: 2 Maxrun: 163 ALoss: 0.004682890605181456 CLoss: 0.016669180244207382\n",
      "Process: 6 Maxrun: 218 ALoss: 0.003307742765173316 CLoss: 0.016937075182795525\n",
      "Process: 1 Maxrun: 201 ALoss: -0.029497995972633362 CLoss: 0.01723523810505867\n",
      "Process: 3 Maxrun: 344 ALoss: -0.036266181617975235 CLoss: 0.015785323455929756\n",
      "Process: 5 Maxrun: 315 ALoss: 0.006983706261962652 CLoss: 0.016131630167365074\n",
      "Process: 4 Maxrun: 391 ALoss: 0.007171063218265772 CLoss: 0.016697829589247704\n",
      "Process: 2 Maxrun: 148 ALoss: 0.005116026382893324 CLoss: 0.016602303832769394\n",
      "Process: 0 Maxrun: 313 ALoss: 0.007027934771031141 CLoss: 0.016223153099417686\n",
      "Process: 6 Maxrun: 312 ALoss: 0.0076750158332288265 CLoss: 0.016855677589774132\n",
      "Process: 1 Maxrun: 500 ALoss: 0.008754733018577099 CLoss: 0.01736665703356266\n",
      "Process: 3 Maxrun: 356 ALoss: 0.041376594454050064 CLoss: 0.01726256124675274\n",
      "Process: 4 Maxrun: 238 ALoss: 0.01372232474386692 CLoss: 0.016922984272241592\n",
      "Process: 5 Maxrun: 292 ALoss: 0.02869562804698944 CLoss: 0.018194440752267838\n",
      "Process: 2 Maxrun: 344 ALoss: 0.014138790778815746 CLoss: 0.016688773408532143\n",
      "Process: 0 Maxrun: 283 ALoss: 0.04533027485013008 CLoss: 0.016583533957600594\n",
      "Process: 6 Maxrun: 224 ALoss: -0.0013000544859096408 CLoss: 0.01804490201175213\n",
      "Process: 1 Maxrun: 132 ALoss: 0.008855710737407207 CLoss: 0.01646926999092102\n",
      "Process: 5 Maxrun: 163 ALoss: 0.02114536426961422 CLoss: 0.01668201945722103\n",
      "Process: 3 Maxrun: 500 ALoss: -0.014394471421837807 CLoss: 0.01750846579670906\n",
      "Done 45 seconds\n",
      "Done 45 seconds\n",
      "Done 45 seconds\n",
      "Done 45 seconds\n",
      "Process: 4 Maxrun: 500 ALoss: 0.017487185075879097 CLoss: 0.016969462856650352\n",
      "Done 45 seconds\n",
      "Done 45 seconds\n",
      "Process: 2 Maxrun: 385 ALoss: -0.0030001348350197077 CLoss: 0.013835782185196877\n",
      "Done 45 seconds\n",
      "8513 0\n",
      "CPU times: user 170 ms, sys: 127 ms, total: 297 ms\n",
      "Wall time: 45.4 s\n"
     ]
    }
   ],
   "source": [
    "%%time\n",
    "MasterNode = ActorCritic()\n",
    "MasterNode.share_memory()\n",
    "processes = []\n",
    "#worker_opt = optim.Adam(lr=1e-4,params=MasterNode.parameters())\n",
    "params = {\n",
    "    'epochs':1500,\n",
    "    'n_steps':10,\n",
    "    'n_workers':7,\n",
    "}\n",
    "counter = mp.Value('i',0)\n",
    "eplens = mp.Queue()\n",
    "for i in range(params['n_workers']):\n",
    "    p = mp.Process(target=worker, args=(i,MasterNode,counter,params,eplens))\n",
    "    p.start()\n",
    "    processes.append(p)\n",
    "for p in processes:\n",
    "    p.join()\n",
    "for p in processes:\n",
    "    p.terminate()\n",
    "    \n",
    "print(counter.value,processes[1].exitcode)"
   ]
  },
  {
   "cell_type": "code",
   "execution_count": 57,
   "metadata": {},
   "outputs": [],
   "source": [
    "eplens_ = []\n",
    "while not eplens.empty():\n",
    "    eplens_.append(eplens.get())"
   ]
  },
  {
   "cell_type": "code",
   "execution_count": 81,
   "metadata": {},
   "outputs": [
    {
     "data": {
      "text/plain": [
       "[<matplotlib.lines.Line2D at 0x1c2d9ba550>]"
      ]
     },
     "execution_count": 81,
     "metadata": {},
     "output_type": "execute_result"
    },
    {
     "data": {
      "image/png": "[encoded data removed]",
      "text/plain": [
       "<Figure size 648x360 with 1 Axes>"
      ]
     },
     "metadata": {
      "needs_background": "light"
     },
     "output_type": "display_data"
    }
   ],
   "source": [
    "plt.figure(figsize=(9,5))\n",
    "x = np.array(eplens_)\n",
    "N = 50\n",
    "x = np.convolve(x, np.ones((N,))/N, mode='valid')\n",
    "plt.ylabel(\"Mean Episode Length\")\n",
    "plt.xlabel(\"Training Time\")\n",
    "plt.title(\"CartPole Training Evaluation\")\n",
    "plt.plot(x)\n",
    "#plt.savefig(\"avg_rewards_Nstep.pdf\")"
   ]
  },
  {
   "cell_type": "markdown",
   "metadata": {},
   "source": [
    "## Test"
   ]
  },
  {
   "cell_type": "code",
   "execution_count": 39,
   "metadata": {},
   "outputs": [
    {
     "name": "stdout",
     "output_type": "stream",
     "text": [
      "Maxrun: 383.68\n"
     ]
    }
   ],
   "source": [
    "steps = 2000\n",
    "env = gym.make(\"CartPole-v1\")\n",
    "env.reset()\n",
    "maxrun = 0\n",
    "state = torch.from_numpy(env.env.state).float()\n",
    "done = False\n",
    "avg_run = 0\n",
    "runs = int(25)\n",
    "for i in range(runs):\n",
    "    maxrun = 0\n",
    "    done = False\n",
    "    env.reset()\n",
    "    state = torch.from_numpy(env.env.state).float()\n",
    "    while(done==False):\n",
    "        #env.render('human')\n",
    "        policy, value = MasterNode(state)\n",
    "        #sample action\n",
    "        action = torch.distributions.Categorical(logits=policy.view(-1)).sample().detach().numpy()\n",
    "        state_, reward, done, lives = env.step(action)\n",
    "        \n",
    "        #print(value,reward)\n",
    "        state = torch.from_numpy(state_).float()\n",
    "        maxrun += 1\n",
    "    avg_run += maxrun\n",
    "avg_run = avg_run / runs\n",
    "env.close()\n",
    "print(\"Maxrun: {}\".format(avg_run,))"
   ]
  },
  {
   "cell_type": "code",
   "execution_count": 14,
   "metadata": {},
   "outputs": [
    {
     "data": {
      "text/plain": [
       "'TestModel = ActorCritic()\\nenv = gym.make(\"CartPole-v1\")\\nenv.reset()\\nmaxrun = 0\\nstate = torch.from_numpy(env.env.state).float()\\ndone = False\\navg_run = 0\\nruns = int(200)\\nfor i in range(runs):\\n    maxrun = 0\\n    done = False\\n    env.reset()\\n    state = torch.from_numpy(env.env.state).float()\\n    while(done==False):\\n        #env.render(\\'human\\')\\n        policy, value = TestModel(state)\\n        #sample action\\n        action = torch.distributions.Categorical(logits=policy.view(-1)).sample()\\n        state_, reward, done, lives = env.step(env.action_space.sample())\\n        state = torch.from_numpy(state_).float()\\n        maxrun += 1\\n    avg_run += maxrun\\navg_run /= runs\\nenv.close()\\nprint(\"Maxrun: {}\".format(avg_run,))'"
      ]
     },
     "execution_count": 14,
     "metadata": {},
     "output_type": "execute_result"
    }
   ],
   "source": [
    "'''TestModel = ActorCritic()\n",
    "env = gym.make(\"CartPole-v1\")\n",
    "env.reset()\n",
    "maxrun = 0\n",
    "state = torch.from_numpy(env.env.state).float()\n",
    "done = False\n",
    "avg_run = 0\n",
    "runs = int(200)\n",
    "for i in range(runs):\n",
    "    maxrun = 0\n",
    "    done = False\n",
    "    env.reset()\n",
    "    state = torch.from_numpy(env.env.state).float()\n",
    "    while(done==False):\n",
    "        #env.render('human')\n",
    "        policy, value = TestModel(state)\n",
    "        #sample action\n",
    "        action = torch.distributions.Categorical(logits=policy.view(-1)).sample()\n",
    "        state_, reward, done, lives = env.step(env.action_space.sample())\n",
    "        state = torch.from_numpy(state_).float()\n",
    "        maxrun += 1\n",
    "    avg_run += maxrun\n",
    "avg_run /= runs\n",
    "env.close()\n",
    "print(\"Maxrun: {}\".format(avg_run,))'''"
   ]
  },
  {
   "cell_type": "markdown",
   "metadata": {},
   "source": [
    "### Demonstrating how bootstrapping reduces variance"
   ]
  },
  {
   "cell_type": "code",
   "execution_count": 1,
   "metadata": {},
   "outputs": [
    {
     "name": "stdout",
     "output_type": "stream",
     "text": [
      "No bootstrapping\n",
      "0.010000000000000009 1.99\n",
      "With bootstrapping\n",
      "0.9901 2.9701\n"
     ]
    }
   ],
   "source": [
    "r1 = [1,1,-1]\n",
    "r2 = [1,1,1]\n",
    "R1,R2 = 0.0,0.0\n",
    "#No bootstrapping\n",
    "for i in range(len(r1)-1,0,-1):\n",
    "    R1 = r1[i] + 0.99*R1\n",
    "for i in range(len(r2)-1,0,-1):\n",
    "    R2 = r2[i] + 0.99*R2\n",
    "print(\"No bootstrapping\")\n",
    "print(R1,R2)\n",
    "#With bootstrapping\n",
    "R1,R2 = 1.0,1.0\n",
    "for i in range(len(r1)-1,0,-1):\n",
    "    R1 = r1[i] + 0.99*R1\n",
    "for i in range(len(r2)-1,0,-1):\n",
    "    R2 = r2[i] + 0.99*R2\n",
    "print(\"With bootstrapping\")\n",
    "print(R1,R2)"
   ]
  },
  {
   "cell_type": "code",
   "execution_count": null,
   "metadata": {},
   "outputs": [],
   "source": []
  }
 ],
 "metadata": {
  "kernelspec": {
   "display_name": "Python [conda env:deeprl]",
   "language": "python",
   "name": "conda-env-deeprl-py"
  },
  "language_info": {
   "codemirror_mode": {
    "name": "ipython",
    "version": 3
   },
   "file_extension": ".py",
   "mimetype": "text/x-python",
   "name": "python",
   "nbconvert_exporter": "python",
   "pygments_lexer": "ipython3",
   "version": "3.6.7"
  }
 },
 "nbformat": 4,
 "nbformat_minor": 2
}
