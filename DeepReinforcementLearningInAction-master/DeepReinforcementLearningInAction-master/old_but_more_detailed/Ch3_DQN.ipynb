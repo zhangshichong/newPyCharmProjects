{
 "cells": [
  {
   "cell_type": "markdown",
   "metadata": {},
   "source": [
    "# Deep Reinforcement Learning <em> in Action  </em>\n",
    "## Ch 3 - Deep Q-Learning"
   ]
  },
  {
   "cell_type": "code",
   "execution_count": 1,
   "metadata": {},
   "outputs": [],
   "source": [
    "# -*- coding: utf-8 -*-\n",
    "import numpy as np\n",
    "import torch\n",
    "from torch.autograd import Variable\n",
    "from Gridworld import *\n",
    "from IPython.display import clear_output\n",
    "import random\n",
    "from matplotlib import pylab as plt"
   ]
  },
  {
   "cell_type": "markdown",
   "metadata": {},
   "source": [
    "#### Helper functions"
   ]
  },
  {
   "cell_type": "code",
   "execution_count": 2,
   "metadata": {},
   "outputs": [],
   "source": [
    "def running_mean(x, N=500):\n",
    "    cumsum = np.cumsum(np.insert(x, 0, 0)) \n",
    "    return (cumsum[N:] - cumsum[:-N]) / float(N)"
   ]
  },
  {
   "cell_type": "markdown",
   "metadata": {},
   "source": [
    "### Test model"
   ]
  },
  {
   "cell_type": "code",
   "execution_count": 3,
   "metadata": {},
   "outputs": [],
   "source": [
    "def testModel(model, mode='static', display=True):\n",
    "    epsilon = 0.05\n",
    "    max_moves = 50\n",
    "    win = False\n",
    "    i = 0\n",
    "    test_game = Gridworld(mode=mode)\n",
    "    state_ = test_game.board.render_np().reshape(1,64) + np.random.rand(1,64)/10.0\n",
    "    state = Variable(torch.from_numpy(state_).float())\n",
    "    if display: \n",
    "        print(\"Initial State:\")\n",
    "        print(test_game.display())\n",
    "    status = 1\n",
    "    #while game still in progress\n",
    "    while(status == 1):\n",
    "        qval = model(state)\n",
    "        qval_ = qval.data.numpy()\n",
    "        if (random.random() < epsilon):\n",
    "            action_ = np.random.randint(0,4)\n",
    "        else:\n",
    "            action_ = np.argmax(qval_)\n",
    "        #action_ = np.argmax(qval_) #take action with highest Q-value\n",
    "        action = action_set[action_]\n",
    "        if display: print('Move #: %s; Taking action: %s' % (i, action))\n",
    "        test_game.makeMove(action)\n",
    "        state_ = test_game.board.render_np().reshape(1,64) + np.random.rand(1,64)/10.0\n",
    "        state = Variable(torch.from_numpy(state_).float())\n",
    "        if display: print(test_game.display())\n",
    "        reward = test_game.reward()\n",
    "        if reward == 10:\n",
    "            status = 0\n",
    "            win = True\n",
    "            if display: print(\"You won! Reward: {}\".format(reward,))\n",
    "        elif reward == -10:\n",
    "            status = 0\n",
    "            if display: print(\"Game lost; stepped into the pit. Penalty: {}\".format(reward,))\n",
    "        i += 1 #If we're taking more than 10 actions, just stop, we probably can't win this game\n",
    "        if (i > max_moves):\n",
    "            if display: print(\"Game lost; too many moves.\")\n",
    "            break\n",
    "    return win"
   ]
  },
  {
   "cell_type": "code",
   "execution_count": 4,
   "metadata": {},
   "outputs": [],
   "source": [
    "def test_win_perc(model, max_games=1000):\n",
    "    wins = 0\n",
    "    for i in range(max_games):\n",
    "        win = testModel(model, 'random', display=False)\n",
    "        if win:\n",
    "            wins += 1\n",
    "    win_perc = float(wins) / float(max_games)\n",
    "    print(\"Games played: {0}, # of wins: {1}\".format(max_games,wins))\n",
    "    print(\"Win percentage: {}\".format(win_perc))"
   ]
  },
  {
   "cell_type": "markdown",
   "metadata": {},
   "source": [
    "# Deep Q-Learning"
   ]
  },
  {
   "cell_type": "code",
   "execution_count": 5,
   "metadata": {},
   "outputs": [],
   "source": [
    "l1 = 64\n",
    "l2 = 164\n",
    "l3 = 150\n",
    "l4 = 4\n",
    "\n",
    "model = torch.nn.Sequential(\n",
    "    torch.nn.Linear(l1, l2),\n",
    "    torch.nn.ReLU(),\n",
    "    torch.nn.Linear(l2, l3),\n",
    "    torch.nn.ReLU(),\n",
    "    torch.nn.Linear(l3,l4)\n",
    ")\n",
    "\n",
    "loss_fn = torch.nn.MSELoss(size_average=False)\n",
    "\n",
    "learning_rate = 1e-4\n",
    "optimizer = torch.optim.Adam(model.parameters(), lr=learning_rate)\n",
    "\n",
    "\n",
    "#reinforcement learning specific parameters\n",
    "gamma = 0.9 #since it may take several moves to goal, making gamma high\n",
    "epsilon = 1.0\n",
    "\n",
    "action_set = {\n",
    "    0: 'u',\n",
    "    1: 'd',\n",
    "    2: 'l',\n",
    "    3: 'r',\n",
    "}"
   ]
  },
  {
   "cell_type": "markdown",
   "metadata": {},
   "source": [
    "##### Without experience replay"
   ]
  },
  {
   "cell_type": "code",
   "execution_count": 6,
   "metadata": {},
   "outputs": [
    {
     "name": "stdout",
     "output_type": "stream",
     "text": [
      "18 0.029870163649320602\n"
     ]
    },
    {
     "ename": "KeyboardInterrupt",
     "evalue": "",
     "output_type": "error",
     "traceback": [
      "\u001b[0;31m---------------------------------------------------------------------------\u001b[0m",
      "\u001b[0;31mKeyboardInterrupt\u001b[0m                         Traceback (most recent call last)",
      "\u001b[0;32m<ipython-input-6-448853d32d49>\u001b[0m in \u001b[0;36m<module>\u001b[0;34m()\u001b[0m\n\u001b[1;32m     33\u001b[0m         \u001b[0mprint\u001b[0m\u001b[0;34m(\u001b[0m\u001b[0mi\u001b[0m\u001b[0;34m,\u001b[0m \u001b[0mloss\u001b[0m\u001b[0;34m.\u001b[0m\u001b[0mitem\u001b[0m\u001b[0;34m(\u001b[0m\u001b[0;34m)\u001b[0m\u001b[0;34m)\u001b[0m\u001b[0;34m\u001b[0m\u001b[0m\n\u001b[1;32m     34\u001b[0m         \u001b[0moptimizer\u001b[0m\u001b[0;34m.\u001b[0m\u001b[0mzero_grad\u001b[0m\u001b[0;34m(\u001b[0m\u001b[0;34m)\u001b[0m\u001b[0;34m\u001b[0m\u001b[0m\n\u001b[0;32m---> 35\u001b[0;31m         \u001b[0mloss\u001b[0m\u001b[0;34m.\u001b[0m\u001b[0mbackward\u001b[0m\u001b[0;34m(\u001b[0m\u001b[0;34m)\u001b[0m\u001b[0;34m\u001b[0m\u001b[0m\n\u001b[0m\u001b[1;32m     36\u001b[0m         \u001b[0mlosses\u001b[0m\u001b[0;34m.\u001b[0m\u001b[0mappend\u001b[0m\u001b[0;34m(\u001b[0m\u001b[0mloss\u001b[0m\u001b[0;34m.\u001b[0m\u001b[0mdata\u001b[0m\u001b[0;34m[\u001b[0m\u001b[0;36m0\u001b[0m\u001b[0;34m]\u001b[0m\u001b[0;34m)\u001b[0m\u001b[0;34m\u001b[0m\u001b[0m\n\u001b[1;32m     37\u001b[0m         \u001b[0moptimizer\u001b[0m\u001b[0;34m.\u001b[0m\u001b[0mstep\u001b[0m\u001b[0;34m(\u001b[0m\u001b[0;34m)\u001b[0m\u001b[0;34m\u001b[0m\u001b[0m\n",
      "\u001b[0;32m~/anaconda3/envs/deeprl/lib/python3.6/site-packages/torch/tensor.py\u001b[0m in \u001b[0;36mbackward\u001b[0;34m(self, gradient, retain_graph, create_graph)\u001b[0m\n\u001b[1;32m     91\u001b[0m                 \u001b[0mproducts\u001b[0m\u001b[0;34m.\u001b[0m \u001b[0mDefaults\u001b[0m \u001b[0mto\u001b[0m\u001b[0;31m \u001b[0m\u001b[0;31m`\u001b[0m\u001b[0;31m`\u001b[0m\u001b[0;32mFalse\u001b[0m\u001b[0;31m`\u001b[0m\u001b[0;31m`\u001b[0m\u001b[0;34m.\u001b[0m\u001b[0;34m\u001b[0m\u001b[0m\n\u001b[1;32m     92\u001b[0m         \"\"\"\n\u001b[0;32m---> 93\u001b[0;31m         \u001b[0mtorch\u001b[0m\u001b[0;34m.\u001b[0m\u001b[0mautograd\u001b[0m\u001b[0;34m.\u001b[0m\u001b[0mbackward\u001b[0m\u001b[0;34m(\u001b[0m\u001b[0mself\u001b[0m\u001b[0;34m,\u001b[0m \u001b[0mgradient\u001b[0m\u001b[0;34m,\u001b[0m \u001b[0mretain_graph\u001b[0m\u001b[0;34m,\u001b[0m \u001b[0mcreate_graph\u001b[0m\u001b[0;34m)\u001b[0m\u001b[0;34m\u001b[0m\u001b[0m\n\u001b[0m\u001b[1;32m     94\u001b[0m \u001b[0;34m\u001b[0m\u001b[0m\n\u001b[1;32m     95\u001b[0m     \u001b[0;32mdef\u001b[0m \u001b[0mregister_hook\u001b[0m\u001b[0;34m(\u001b[0m\u001b[0mself\u001b[0m\u001b[0;34m,\u001b[0m \u001b[0mhook\u001b[0m\u001b[0;34m)\u001b[0m\u001b[0;34m:\u001b[0m\u001b[0;34m\u001b[0m\u001b[0m\n",
      "\u001b[0;32m~/anaconda3/envs/deeprl/lib/python3.6/site-packages/torch/autograd/__init__.py\u001b[0m in \u001b[0;36mbackward\u001b[0;34m(tensors, grad_tensors, retain_graph, create_graph, grad_variables)\u001b[0m\n\u001b[1;32m     87\u001b[0m     Variable._execution_engine.run_backward(\n\u001b[1;32m     88\u001b[0m         \u001b[0mtensors\u001b[0m\u001b[0;34m,\u001b[0m \u001b[0mgrad_tensors\u001b[0m\u001b[0;34m,\u001b[0m \u001b[0mretain_graph\u001b[0m\u001b[0;34m,\u001b[0m \u001b[0mcreate_graph\u001b[0m\u001b[0;34m,\u001b[0m\u001b[0;34m\u001b[0m\u001b[0m\n\u001b[0;32m---> 89\u001b[0;31m         allow_unreachable=True)  # allow_unreachable flag\n\u001b[0m\u001b[1;32m     90\u001b[0m \u001b[0;34m\u001b[0m\u001b[0m\n\u001b[1;32m     91\u001b[0m \u001b[0;34m\u001b[0m\u001b[0m\n",
      "\u001b[0;31mKeyboardInterrupt\u001b[0m: "
     ]
    }
   ],
   "source": [
    "epochs = 1000\n",
    "losses = []\n",
    "for i in range(epochs):\n",
    "    game = Gridworld(size=4, mode='static')\n",
    "    state_ = game.board.render_np().reshape(1,64) + np.random.rand(1,64)/10.0\n",
    "    state = Variable(torch.from_numpy(state_).float())\n",
    "    status = 1\n",
    "    #while game still in progress\n",
    "    while(status == 1):\n",
    "        qval = model(state)\n",
    "        qval_ = qval.data.numpy()\n",
    "        if (random.random() < epsilon):\n",
    "            action_ = np.random.randint(0,4)\n",
    "        else:\n",
    "            action_ = (np.argmax(qval_))\n",
    "        \n",
    "        action = action_set[action_]\n",
    "        game.makeMove(action)\n",
    "        new_state_ = game.board.render_np().reshape(1,64) + np.random.rand(1,64)/10.0\n",
    "        new_state = Variable(torch.from_numpy(new_state_).float())\n",
    "        reward = game.reward()\n",
    "        newQ = model(new_state.reshape(1,64)).data.numpy()\n",
    "        maxQ = np.max(newQ)\n",
    "        y = np.zeros((1,4))\n",
    "        y[:] = qval_[:]\n",
    "        if reward == -1:\n",
    "            update = (reward + (gamma * maxQ))\n",
    "        else:\n",
    "            update = reward\n",
    "        y[0][action_] = update\n",
    "        y = Variable(torch.from_numpy(y).float())\n",
    "        loss = loss_fn(qval, y)\n",
    "        print(i, loss.item())\n",
    "        optimizer.zero_grad()\n",
    "        loss.backward()\n",
    "        losses.append(loss.data[0])\n",
    "        optimizer.step()\n",
    "        state = new_state\n",
    "        if reward != -1:\n",
    "            status = 0\n",
    "        clear_output(wait=True)\n",
    "    if epsilon > 0.1:\n",
    "        epsilon -= (1/epochs)"
   ]
  },
  {
   "cell_type": "code",
   "execution_count": null,
   "metadata": {},
   "outputs": [],
   "source": [
    "plt.figure(figsize=(15,10))\n",
    "plt.ylabel(\"Loss\")\n",
    "plt.xlabel(\"Training Steps\")\n",
    "plt.plot(losses)\n",
    "plt.savefig(\"dqn_1_loss_plot.pdf\", format=\"pdf\")"
   ]
  },
  {
   "cell_type": "code",
   "execution_count": null,
   "metadata": {},
   "outputs": [],
   "source": [
    "testModel(model, 'random')"
   ]
  },
  {
   "cell_type": "code",
   "execution_count": null,
   "metadata": {},
   "outputs": [],
   "source": [
    "l1 = 64\n",
    "l2 = 200\n",
    "l3 = 150\n",
    "l4 = 100\n",
    "l5 = 4\n",
    "\n",
    "model2 = torch.nn.Sequential(\n",
    "    torch.nn.Linear(l1, l2),\n",
    "    torch.nn.ReLU(),\n",
    "    torch.nn.Linear(l2, l3),\n",
    "    torch.nn.ReLU(),\n",
    "    torch.nn.Linear(l3,l4),\n",
    "    torch.nn.ReLU(),\n",
    "    torch.nn.Linear(l4,l5)\n",
    ")\n",
    "\n",
    "loss_fn2 = torch.nn.MSELoss(size_average=False)\n",
    "\n",
    "learning_rate2 = 1e-4\n",
    "optimizer2 = torch.optim.Adam(model2.parameters(), lr=learning_rate2)\n",
    "\n",
    "\n",
    "#reinforcement learning specific parameters\n",
    "gamma = 0.9 #since it may take several moves to goal, making gamma high\n",
    "epsilon = 1.0\n",
    "\n",
    "action_set = {\n",
    "    0: 'u',\n",
    "    1: 'd',\n",
    "    2: 'l',\n",
    "    3: 'r',\n",
    "}"
   ]
  },
  {
   "cell_type": "markdown",
   "metadata": {},
   "source": [
    "### With experience replay"
   ]
  },
  {
   "cell_type": "code",
   "execution_count": null,
   "metadata": {},
   "outputs": [],
   "source": [
    "epochs = 1500\n",
    "losses = []\n",
    "batchSize = 40\n",
    "buffer = 80\n",
    "replay = []\n",
    "max_moves = 75\n",
    "h = 0\n",
    "for i in range(epochs):\n",
    "    game = Gridworld(size=4, mode='random')\n",
    "    state_ = game.board.render_np().reshape(1,64) + np.random.rand(1,64)/10.0\n",
    "    state = Variable(torch.from_numpy(state_).float())\n",
    "    status = 1\n",
    "    mov = 0\n",
    "    #while game still in progress\n",
    "    while(status == 1):\n",
    "        mov += 1\n",
    "        qval = model2(state)\n",
    "        qval_ = qval.data.numpy()\n",
    "        if (random.random() < epsilon):\n",
    "            action_ = np.random.randint(0,4)\n",
    "        else:\n",
    "            action_ = (np.argmax(qval_))\n",
    "        \n",
    "        action = action_set[action_]\n",
    "        game.makeMove(action)\n",
    "        new_state_ = game.board.render_np().reshape(1,64) + np.random.rand(1,64)/10.0\n",
    "        new_state = Variable(torch.from_numpy(new_state_).float())\n",
    "        reward = game.reward()\n",
    "        \n",
    "        if (len(replay) < buffer): #if buffer not filled, add to it\n",
    "            replay.append((state, action_, reward, new_state))\n",
    "        else: #if buffer full, overwrite old values\n",
    "            replay.pop(0)\n",
    "            replay.append((state, action_, reward, new_state))\n",
    "            #randomly sample our experience replay memory\n",
    "            minibatch = random.sample(replay, batchSize)\n",
    "            X_train = Variable(torch.empty(batchSize, 4, dtype=torch.float))\n",
    "            y_train = Variable(torch.empty(batchSize, 4, dtype=torch.float))\n",
    "            h = 0\n",
    "            for memory in minibatch:\n",
    "                old_state, action_m, reward_m, new_state_m = memory\n",
    "                #old_state = Variable(torch.from_numpy(old_state_).float())\n",
    "                #new_state = Variable(torch.from_numpy(new_state_).float())\n",
    "                old_qval = model2(old_state)\n",
    "                #action = action_set[action_]\n",
    "                newQ = model2(new_state_m).data.numpy()\n",
    "                maxQ = np.max(newQ)\n",
    "                y = torch.zeros((1,4))\n",
    "                y[:] = old_qval[:]\n",
    "                if reward == -1:\n",
    "                    update = (reward_m + (gamma * maxQ))\n",
    "                else:\n",
    "                    update = reward_m\n",
    "                y[0][action_m] = update\n",
    "                X_train[h] = old_qval\n",
    "                y_train[h] = Variable(y)\n",
    "                h+=1\n",
    "                \n",
    "            \n",
    "            #X_train = Variable(torch.from_numpy(np.asarray(X_train)).float())\n",
    "            #y_train = Variable(torch.from_numpy(np.asarray(y_train)).float())\n",
    "            \n",
    "            loss = loss_fn2(X_train, y_train)\n",
    "            print(i, loss.item())\n",
    "            optimizer2.zero_grad()\n",
    "            loss.backward()\n",
    "            losses.append(loss.data[0])\n",
    "            optimizer2.step()\n",
    "            \n",
    "            state = new_state\n",
    "        if reward != -1 or mov > max_moves:\n",
    "            status = 0\n",
    "            mov = 0\n",
    "        clear_output(wait=True)\n",
    "    if epsilon > 0.1:\n",
    "        epsilon -= (1/epochs)"
   ]
  },
  {
   "cell_type": "code",
   "execution_count": null,
   "metadata": {},
   "outputs": [],
   "source": [
    "plt.figure(figsize=(15,10))\n",
    "plt.ylabel(\"Loss\")\n",
    "plt.xlabel(\"Training Steps\")\n",
    "plt.plot(running_mean(losses))\n",
    "#plt.savefig(\"dqn_3_loss_plot.pdf\", format=\"pdf\")"
   ]
  },
  {
   "cell_type": "code",
   "execution_count": null,
   "metadata": {},
   "outputs": [],
   "source": [
    "testModel(model2, 'random')"
   ]
  },
  {
   "cell_type": "markdown",
   "metadata": {},
   "source": [
    "### Test percentage game wins"
   ]
  },
  {
   "cell_type": "code",
   "execution_count": null,
   "metadata": {},
   "outputs": [],
   "source": [
    "max_games = 1000\n",
    "wins = 0\n",
    "for i in range(max_games):\n",
    "    win = testModel('random', display=False)\n",
    "    if win:\n",
    "        wins += 1\n",
    "win_perc = float(wins) / float(max_games)\n",
    "print(\"Games played: {0}, # of wins: {1}\".format(max_games,wins))\n",
    "print(\"Win percentage: {}\".format(win_perc))"
   ]
  },
  {
   "cell_type": "markdown",
   "metadata": {},
   "source": [
    "### With experience replay and target network"
   ]
  },
  {
   "cell_type": "code",
   "execution_count": 6,
   "metadata": {},
   "outputs": [],
   "source": [
    "import copy\n",
    "\n",
    "l1 = 64\n",
    "l2 = 164\n",
    "l3 = 150\n",
    "l4 = 4\n",
    "\n",
    "model3 = torch.nn.Sequential(\n",
    "    torch.nn.Linear(l1, l2),\n",
    "    torch.nn.ReLU(),\n",
    "    torch.nn.Linear(l2, l3),\n",
    "    torch.nn.ReLU(),\n",
    "    torch.nn.Linear(l3,l4),\n",
    ")\n",
    "\n",
    "model3_ = copy.deepcopy(model3) #Target network\n",
    "\n",
    "loss_fn3 = torch.nn.MSELoss(size_average=False)\n",
    "\n",
    "learning_rate3 = 1e-3\n",
    "optimizer3 = torch.optim.Adam(model3.parameters(), lr=learning_rate3)\n",
    "\n",
    "\n",
    "#reinforcement learning specific parameters\n",
    "gamma = 0.9 #since it may take several moves to goal, making gamma high\n",
    "epsilon = 1.0\n",
    "\n",
    "action_set = {\n",
    "    0: 'u',\n",
    "    1: 'd',\n",
    "    2: 'l',\n",
    "    3: 'r',\n",
    "}"
   ]
  },
  {
   "cell_type": "code",
   "execution_count": 7,
   "metadata": {},
   "outputs": [
    {
     "name": "stdout",
     "output_type": "stream",
     "text": [
      "cuda:0\n"
     ]
    }
   ],
   "source": [
    "device = torch.device(\"cuda:0\" if torch.cuda.is_available() else \"cpu\")\n",
    "# Assume that we are on a CUDA machine, then this should print a CUDA device:\n",
    "print(device)"
   ]
  },
  {
   "cell_type": "code",
   "execution_count": null,
   "metadata": {},
   "outputs": [],
   "source": [
    "model3.to(device)\n",
    "model3_.to(device)"
   ]
  },
  {
   "cell_type": "code",
   "execution_count": null,
   "metadata": {},
   "outputs": [],
   "source": [
    "epochs = 700\n",
    "losses = []\n",
    "batchSize = 250\n",
    "buffer = 2000\n",
    "replay = []\n",
    "max_moves = 9\n",
    "c = 500 #target network update step size\n",
    "c_step = 0\n",
    "h = 0\n",
    "for i in range(epochs):\n",
    "    game = Gridworld(size=4, mode='random')\n",
    "    state_ = game.board.render_np().reshape(1,64) + np.random.rand(1,64)/100.0\n",
    "    state = Variable(torch.from_numpy(state_).float()).cuda()\n",
    "    status = 1\n",
    "    mov = 0\n",
    "    #while game still in progress\n",
    "    while(status == 1):\n",
    "        \n",
    "        c_step += 1\n",
    "        if c_step > c:\n",
    "            model3_.load_state_dict(model3.state_dict())\n",
    "            c_step = 0\n",
    "        mov += 1\n",
    "        \n",
    "        qval = model3(state)\n",
    "        qval_ = qval.cpu().data.numpy()\n",
    "        #values, indices = torch.max(tensor, 0)\n",
    "        if (random.random() < epsilon):\n",
    "            action_ = np.random.randint(0,4)\n",
    "        else:\n",
    "            action_ = np.argmax(qval_)\n",
    "            #action_ = torch.argmax(qval_)\n",
    "        action = action_set[action_]\n",
    "        game.makeMove(action)\n",
    "        new_state_ = game.board.render_np().reshape(1,64) + np.random.rand(1,64)/100.0\n",
    "        new_state = Variable(torch.from_numpy(new_state_).float()).cuda()\n",
    "        reward = game.reward()\n",
    "        if mov > max_moves:\n",
    "            reward = -5\n",
    "        if (len(replay) < buffer): #if buffer not filled, add to it\n",
    "            replay.append((state, action_, reward, new_state))\n",
    "        else: #if buffer full, overwrite old values\n",
    "            replay.pop(0)\n",
    "            replay.append((state, action_, reward, new_state))\n",
    "            #randomly sample our experience replay memory\n",
    "            minibatch = random.sample(replay, batchSize)\n",
    "            X_train = Variable(torch.empty(batchSize, 4, dtype=torch.float)).cuda()\n",
    "            y_train = Variable(torch.empty(batchSize, 4, dtype=torch.float)).cuda()\n",
    "            h = 0\n",
    "            for memory in minibatch:\n",
    "                old_state, action_m, reward_m, new_state_m = memory\n",
    "                old_qval = model3(old_state) #TARGET NETWORK!\n",
    "                #newQ = model3_(new_state_m).cpu().data.numpy()\n",
    "                newQ = model3_(new_state_m)\n",
    "                #maxQ = np.max(newQ)\n",
    "                maxQ = torch.max(newQ)\n",
    "                y = torch.zeros((1,4))\n",
    "                y[:] = old_qval[:]\n",
    "                if reward == -1:\n",
    "                    update = (reward_m + (gamma * maxQ))\n",
    "                else:\n",
    "                    update = reward_m\n",
    "                y[0][action_m] = update\n",
    "                X_train[h] = old_qval\n",
    "                y_train[h] = Variable(y)\n",
    "                h+=1\n",
    "            \n",
    "            loss = loss_fn3(X_train, y_train)\n",
    "            print(i, loss.item())\n",
    "            optimizer3.zero_grad()\n",
    "            loss.backward()\n",
    "            losses.append(loss.data[0])\n",
    "            optimizer3.step()\n",
    "            \n",
    "            state = new_state\n",
    "\n",
    "        if reward != -1:\n",
    "            status = 0\n",
    "            mov = 0\n",
    "        clear_output(wait=True)\n",
    "    if epsilon > 0.1:\n",
    "        epsilon -= (1/epochs)"
   ]
  },
  {
   "cell_type": "code",
   "execution_count": 14,
   "metadata": {},
   "outputs": [
    {
     "name": "stdout",
     "output_type": "stream",
     "text": [
      "Initial State:\n",
      "[[' ' '-' ' ' '+']\n",
      " [' ' ' ' 'W' ' ']\n",
      " [' ' ' ' ' ' ' ']\n",
      " [' ' ' ' ' ' 'P']]\n",
      "Move #: 0; Taking action: u\n",
      "[[' ' '-' ' ' '+']\n",
      " [' ' ' ' 'W' ' ']\n",
      " [' ' ' ' ' ' 'P']\n",
      " [' ' ' ' ' ' ' ']]\n",
      "Move #: 1; Taking action: u\n",
      "[[' ' '-' ' ' '+']\n",
      " [' ' ' ' 'W' 'P']\n",
      " [' ' ' ' ' ' ' ']\n",
      " [' ' ' ' ' ' ' ']]\n",
      "Move #: 2; Taking action: u\n",
      "[[' ' '-' ' ' '+']\n",
      " [' ' ' ' 'W' ' ']\n",
      " [' ' ' ' ' ' ' ']\n",
      " [' ' ' ' ' ' ' ']]\n",
      "You won! Reward: 10\n"
     ]
    },
    {
     "data": {
      "text/plain": [
       "True"
      ]
     },
     "execution_count": 14,
     "metadata": {},
     "output_type": "execute_result"
    }
   ],
   "source": [
    "testModel(model3.to('cpu'), 'random')"
   ]
  },
  {
   "cell_type": "code",
   "execution_count": 15,
   "metadata": {},
   "outputs": [
    {
     "name": "stdout",
     "output_type": "stream",
     "text": [
      "Games played: 1000, # of wins: 909\n",
      "Win percentage: 0.909\n"
     ]
    }
   ],
   "source": [
    "test_win_perc(model3)"
   ]
  },
  {
   "cell_type": "code",
   "execution_count": 18,
   "metadata": {
    "scrolled": false
   },
   "outputs": [
    {
     "data": {
      "text/plain": [
       "[<matplotlib.lines.Line2D at 0x7f8bfcfac940>]"
      ]
     },
     "execution_count": 18,
     "metadata": {},
     "output_type": "execute_result"
    },
    {
     "data": {
      "image/png": "[encoded data removed]",
      "text/plain": [
       "<matplotlib.figure.Figure at 0x7f8bfcfe8a90>"
      ]
     },
     "metadata": {},
     "output_type": "display_data"
    }
   ],
   "source": [
    "plt.figure(figsize=(15,10))\n",
    "plt.ylabel(\"Loss\")\n",
    "plt.xlabel(\"Training Steps\")\n",
    "plt.plot(running_mean(losses,250))\n",
    "#plt.savefig(\"dqn_3_loss_plot.pdf\", format=\"pdf\")"
   ]
  },
  {
   "cell_type": "code",
   "execution_count": null,
   "metadata": {},
   "outputs": [],
   "source": []
  }
 ],
 "metadata": {
  "kernelspec": {
   "display_name": "Python [default]",
   "language": "python",
   "name": "python3"
  },
  "language_info": {
   "codemirror_mode": {
    "name": "ipython",
    "version": 3
   },
   "file_extension": ".py",
   "mimetype": "text/x-python",
   "name": "python",
   "nbconvert_exporter": "python",
   "pygments_lexer": "ipython3",
   "version": "3.6.5"
  }
 },
 "nbformat": 4,
 "nbformat_minor": 2
}
